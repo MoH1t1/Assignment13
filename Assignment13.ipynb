{
  "metadata": {
    "kernelspec": {
      "name": "python",
      "display_name": "Python (Pyodide)",
      "language": "python"
    },
    "language_info": {
      "codemirror_mode": {
        "name": "python",
        "version": 3
      },
      "file_extension": ".py",
      "mimetype": "text/x-python",
      "name": "python",
      "nbconvert_exporter": "python",
      "pygments_lexer": "ipython3",
      "version": "3.8"
    }
  },
  "nbformat_minor": 4,
  "nbformat": 4,
  "cells": [
    {
      "cell_type": "code",
      "source": "# Q1. What is MongoDB? Explain non-relational databases in short. In which scenarios it is preferred to use\n# MongoDB over SQL databases?\n\n# MongoDB is a popular open-source, document-oriented NoSQL database designed for storing large amounts of data in a flexible, schema-less format. \n# Non-relational databases are databases that do not use the traditional relational model (tables and rows) for data storage.\n\n# When to use MongoDB over SQL databases:\n# When data structure is dynamic or semi-structured and may change over time.\n# When the application requires high scalability, MongoDB can handle large volumes of unstructured data.   ",
      "metadata": {
        "trusted": true
      },
      "outputs": [],
      "execution_count": null
    },
    {
      "cell_type": "code",
      "source": "# Q2. State and Explain the features of MongoDB.\n\n# Document-Oriented Storage: MongoDB stores data in JSON-like BSON documents, allowing for flexible data models.\n# Scalability: MongoDB can handle large amounts of data and can scale horizontally by sharding (splitting data across multiple servers).\n# High Availability: It supports replica sets, which provide automatic failover and data redundancy.\n# Flexible Schema: MongoDB allows documents to have different fields, offering flexibility in handling data with varying structures.",
      "metadata": {
        "trusted": true
      },
      "outputs": [],
      "execution_count": null
    },
    {
      "cell_type": "code",
      "source": "# Q3. Write a code to connect MongoDB to Python. Also, create a database and a collection in MongoDB.\n\nfrom pymongo import MongoClient\n\n# Create a connection to MongoDB\nclient = MongoClient('mongodb://localhost:27017/')\n\n# Create a new database\ndb = client['my_database']\n\n# Create a new collection within the database\ncollection = db['my_collection']\n\nprint(\"Database and collection created successfully!\")\n",
      "metadata": {
        "trusted": true
      },
      "outputs": [
        {
          "ename": "<class 'ModuleNotFoundError'>",
          "evalue": "No module named 'pymongo'",
          "traceback": [
            "\u001b[0;31m---------------------------------------------------------------------------\u001b[0m",
            "\u001b[0;31mModuleNotFoundError\u001b[0m                       Traceback (most recent call last)",
            "Cell \u001b[0;32mIn[1], line 3\u001b[0m\n\u001b[1;32m      1\u001b[0m \u001b[38;5;66;03m# Q3. Write a code to connect MongoDB to Python. Also, create a database and a collection in MongoDB.\u001b[39;00m\n\u001b[0;32m----> 3\u001b[0m \u001b[38;5;28;01mfrom\u001b[39;00m \u001b[38;5;21;01mpymongo\u001b[39;00m \u001b[38;5;28;01mimport\u001b[39;00m MongoClient\n\u001b[1;32m      5\u001b[0m \u001b[38;5;66;03m# Create a connection to MongoDB\u001b[39;00m\n\u001b[1;32m      6\u001b[0m client \u001b[38;5;241m=\u001b[39m MongoClient(\u001b[38;5;124m'\u001b[39m\u001b[38;5;124mmongodb://localhost:27017/\u001b[39m\u001b[38;5;124m'\u001b[39m)\n",
            "\u001b[0;31mModuleNotFoundError\u001b[0m: No module named 'pymongo'"
          ],
          "output_type": "error"
        }
      ],
      "execution_count": 1
    },
    {
      "cell_type": "code",
      "source": "# Q4. Using the database and the collection created in question number 3, write a code to insert one record,and insert many records. Use the find() and find_one() methods to print the inserted record.\n\n# Insert one record\nsingle_record = {\"name\": \"John\", \"age\": 30, \"city\": \"New York\"}\ncollection.insert_one(single_record)\n\n# Insert multiple records\nmultiple_records = [\n    {\"name\": \"Alice\", \"age\": 25, \"city\": \"Los Angeles\"},\n    {\"name\": \"Bob\", \"age\": 28, \"city\": \"Chicago\"}\n]\ncollection.insert_many(multiple_records)\n\n# Retrieve one record using find_one()\nprint(\"Single Record:\", collection.find_one({\"name\": \"John\"}))\n\n# Retrieve all records using find()\nprint(\"All Records:\")\nfor record in collection.find():\n    print(record)\n",
      "metadata": {
        "trusted": true
      },
      "outputs": [],
      "execution_count": null
    },
    {
      "cell_type": "code",
      "source": "# Q5. Explain how you can use the find() method to query the MongoDB database. Write a simple code to demonstrate this.\n\n# The find() method in MongoDB is used to retrieve documents from a collection based on a specified query. It returns a cursor that can be iterated over to access \n# the documents.\n\nquery = {\"age\": {\"$gt\": 25}}\nresult = collection.find(query)\nfor record in result:\n    print(record)\n",
      "metadata": {
        "trusted": true
      },
      "outputs": [],
      "execution_count": null
    },
    {
      "cell_type": "code",
      "source": "# Q6. Explain the sort() method. Give an example to demonstrate sorting in MongoDB.\n\n# The sort() method in MongoDB is used to sort the results of a query by one or more fields. The sort order can be ascending (1) or descending (-1).\n\nsorted_records = collection.find().sort(\"age\", 1)\nfor record in sorted_records:\n    print(record)",
      "metadata": {
        "trusted": true
      },
      "outputs": [],
      "execution_count": null
    },
    {
      "cell_type": "code",
      "source": "# Q7. Explain why delete_one(), delete_many(), and drop() is used.\n\n# delete_one(): Deletes a single document that matches the query.\n# Example: collection.delete_one({\"name\": \"John\"}) deletes the first document with the name \"John\".\n# delete_many(): Deletes all documents that match the query.\n# Example: collection.delete_many({\"age\": {\"$lt\": 30}}) deletes all documents where age is less than 30.\n# drop(): Deletes an entire collection from the database.\n# Example: collection.drop() removes the collection my_collection from the database.",
      "metadata": {
        "trusted": true
      },
      "outputs": [],
      "execution_count": null
    }
  ]
}